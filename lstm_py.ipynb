{
 "cells": [
  {
   "cell_type": "code",
   "execution_count": 1,
   "metadata": {},
   "outputs": [
    {
     "name": "stderr",
     "output_type": "stream",
     "text": [
      "/anaconda3/lib/python3.6/site-packages/h5py/__init__.py:36: FutureWarning:\n",
      "\n",
      "Conversion of the second argument of issubdtype from `float` to `np.floating` is deprecated. In future, it will be treated as `np.float64 == np.dtype(float).type`.\n",
      "\n"
     ]
    }
   ],
   "source": [
    "import bs4 as bs\n",
    "import datetime as dt\n",
    "import os\n",
    "import pandas_datareader.data as web\n",
    "import pickle\n",
    "import requests\n",
    "import pandas as pd\n",
    "import dash\n",
    "from dash.dependencies import Input, Output, State\n",
    "import dash_core_components as dcc\n",
    "import dash_html_components as html\n",
    "import plotly.graph_objs as go\n",
    "import requests\n",
    "import json\n",
    "import numpy as np\n",
    "import pandas as pd\n",
    "import tensorflow as tf\n",
    "import time\n",
    "from sklearn.preprocessing import MinMaxScaler\n",
    "import fix_yahoo_finance as yf\n",
    "from pandas.tseries.offsets import BDay\n",
    "from statsmodels.tsa.arima_model import ARIMA\n",
    "import numpy as np # linear algebra\n",
    "import pandas as pd # data processing, CSV file I/O (e.g. pd.read_csv)\n",
    "\n",
    "from collections import deque\n",
    "import random\n",
    "from fbprophet import Prophet\n",
    "import matplotlib.pyplot as plt\n",
    "import seaborn as sns\n",
    "from pandas import Series\n",
    "from statsmodels.tsa.stattools import adfuller\n",
    "startdate=\"2017-11-22\"\n",
    "enddate=\"2018-11-22\"\n",
    "from pandas_datareader import data as pdr\n",
    "import tensorflow as tf\n",
    "from tensorflow.keras.models import Sequential\n",
    "from tensorflow.keras.layers import Dense, Dropout, LSTM, CuDNNLSTM, BatchNormalization\n",
    "from tensorflow.keras.callbacks import TensorBoard\n",
    "from tensorflow.keras.callbacks import ModelCheckpoint\n",
    "from numpy import newaxis\n",
    "from sklearn.preprocessing import MinMaxScaler\n",
    "from sklearn import preprocessing\n",
    "import matplotlib.pyplot as plt\n",
    "os.environ['KMP_DUPLICATE_LIB_OK']='True'\n",
    "from tensorflow.keras.layers import TimeDistributed\n",
    "\n",
    "from math import sqrt\n",
    "from numpy import concatenate\n",
    "from matplotlib import pyplot\n",
    "from pandas import read_csv\n",
    "from pandas import DataFrame\n",
    "from pandas import concat\n"
   ]
  },
  {
   "cell_type": "code",
   "execution_count": 2,
   "metadata": {},
   "outputs": [
    {
     "name": "stdout",
     "output_type": "stream",
     "text": [
      "<class 'pandas.core.frame.DataFrame'>\n",
      "Index: 2003 entries, 2019-04-18 to 2011-05-04\n",
      "Columns: 180 entries, MMM_volume to ^DJI_volume\n",
      "dtypes: float64(167), int64(13)\n",
      "memory usage: 2.8+ MB\n",
      "None\n"
     ]
    }
   ],
   "source": [
    "dow = ['MMM', 'AXP', 'AAPL', 'BA', 'CAT', 'CVX', 'CSCO', 'KO', 'XOM', 'GS', 'HD', 'IBM', 'INTC', 'JNJ', 'JPM', 'MCD', 'MRK', 'MSFT', 'NKE', 'PFE', 'PG', 'TRV', 'UNH', 'UTX', 'VZ', 'V', 'WMT', 'WBA', 'DIS','^DJI']\n",
    "\n",
    "main_df = pd.DataFrame()\n",
    "for ratio in dow:  # begin iteration\n",
    "\n",
    "    dataset = f'/Users/Herdt/Desktop/python/stock_data/stock_history/{ratio}.csv'  # get the full path to the file.\n",
    "    df = pd.read_csv(dataset)  # read in specific file\n",
    "\n",
    "    # rename volume and close to include the ticker so we can still which close/volume is which:\n",
    "    df.rename(columns={\"volume\": f\"{ratio}_volume\",\"open\": f\"{ratio}_open\", \"close\": f\"{ratio}_close\", \"high\": f\"{ratio}_high\", \"low\": f\"{ratio}_low\", \"adjclose\": f\"{ratio}_adjclose\"}, inplace=True)\n",
    "\n",
    "    df.set_index('date', inplace=True)\n",
    "    #df.index = pd.to_datetime(df.index)\n",
    "     # set time as index so we can join them on this shared time\n",
    "    #df = df[[f\"{ratio}_close\", f\"{ratio}_volume\"]]  # ignore the other columns besides price and volume\n",
    "    df.drop(f\"{ratio}_open\",1)\n",
    "    df.drop(f\"{ratio}_high\",1)\n",
    "    df.drop(f\"{ratio}_low\",1)\n",
    "    df.drop(f\"{ratio}_close\",1)\n",
    "    if len(main_df)==0:  # if the dataframe is empty\n",
    "        main_df = df  # then it's just the current df\n",
    "    else:  # otherwise, join this data to the main one\n",
    "        main_df = main_df.join(df)\n",
    "main_df = main_df.iloc[:2003]\n",
    "main_df.dropna(inplace=True)\n",
    "#main_df = main_df.pct_change()\n",
    "main_df.dropna(inplace=True)\n",
    "print(main_df.info())"
   ]
  },
  {
   "cell_type": "code",
   "execution_count": 3,
   "metadata": {},
   "outputs": [
    {
     "name": "stdout",
     "output_type": "stream",
     "text": [
      "            MMM_volume    MMM_open   MMM_close    MMM_high     MMM_low  \\\n",
      "date                                                                     \n",
      "2019-04-18     1780100  217.979996  218.880005  219.669998  217.619995   \n",
      "2019-04-17     1977600  217.630005  217.639999  219.330002  217.179993   \n",
      "2019-04-16     1549600  216.589996  216.899994  217.669998  215.479996   \n",
      "2019-04-15     1483300  216.839996  215.830002  217.360001  214.899994   \n",
      "2019-04-12     1922400  215.100006  217.419998  217.490005  214.350006   \n",
      "\n",
      "            MMM_adjclose  AXP_volume    AXP_open   AXP_close    AXP_high  ...  \\\n",
      "date                                                                      ...   \n",
      "2019-04-18    218.880005   6186800.0  112.250000  113.669998  114.139999  ...   \n",
      "2019-04-17    217.639999   3799900.0  112.309998  111.760002  112.500000  ...   \n",
      "2019-04-16    216.899994   2523400.0  111.089996  111.879997  112.029999  ...   \n",
      "2019-04-15    215.830002   2285000.0  110.919998  110.529999  110.970001  ...   \n",
      "2019-04-12    217.419998   2316900.0  110.820000  110.910004  111.550003  ...   \n",
      "\n",
      "             DIS_close    DIS_high     DIS_low  DIS_adjclose     ^DJI_open  \\\n",
      "date                                                                         \n",
      "2019-04-18  132.449997  132.869995  131.110001    132.449997  26463.369141   \n",
      "2019-04-17  131.750000  132.360001  129.279999    131.750000  26468.529297   \n",
      "2019-04-16  129.899994  132.130005  129.559998    129.899994  26482.189453   \n",
      "2019-04-15  132.039993  132.699997  129.789993    132.039993  26407.759766   \n",
      "2019-04-12  130.059998  130.899994  126.360001    130.059998  26357.789063   \n",
      "\n",
      "               ^DJI_high      ^DJI_low    ^DJI_close  ^DJI_adjclose  \\\n",
      "date                                                                  \n",
      "2019-04-18  26602.419922  26444.529297  26559.539063   26559.539063   \n",
      "2019-04-17  26501.019531  26391.859375  26449.539063   26449.539063   \n",
      "2019-04-16  26530.710938  26397.189453  26452.660156   26452.660156   \n",
      "2019-04-15  26424.849609  26316.419922  26384.769531   26384.769531   \n",
      "2019-04-12  26436.679688  26309.720703  26412.300781   26412.300781   \n",
      "\n",
      "            ^DJI_volume  \n",
      "date                     \n",
      "2019-04-18  332850000.0  \n",
      "2019-04-17  367780000.0  \n",
      "2019-04-16  302340000.0  \n",
      "2019-04-15  250620000.0  \n",
      "2019-04-12  369910000.0  \n",
      "\n",
      "[5 rows x 180 columns]\n"
     ]
    }
   ],
   "source": [
    "print(main_df.head())"
   ]
  },
  {
   "cell_type": "code",
   "execution_count": 4,
   "metadata": {},
   "outputs": [],
   "source": [
    "FUTURE_PERIOD_PREDICT = 1  # how far into the future are we trying to predict?\n",
    "RATIO_TO_PREDICT = \"AAPL_adjclose\"\n",
    "\n",
    "\n",
    "main_df['future'] = main_df[f'{RATIO_TO_PREDICT}'].shift(-FUTURE_PERIOD_PREDICT)\n",
    "#main_df['target'] = list(map(classify, main_df[f'{RATIO_TO_PREDICT}'], main_df['future']))\n",
    "main_df = main_df.pct_change()\n",
    "main_df.dropna(inplace=True)\n",
    "\n",
    "df_test = main_df.iloc[:50].values\n",
    "df_train = main_df.iloc[50:].values"
   ]
  },
  {
   "cell_type": "code",
   "execution_count": 5,
   "metadata": {},
   "outputs": [
    {
     "name": "stdout",
     "output_type": "stream",
     "text": [
      "(1952, 180)\n",
      "(1952,)\n",
      "(50, 180)\n",
      "(50,)\n"
     ]
    }
   ],
   "source": [
    "train_X, train_y = df_train[:, :-1], df_train[:, -1]\n",
    "test_X, test_y = df_test[:, :-1], df_test[:, -1]\n",
    "print(train_X.shape)\n",
    "print(train_y.shape)\n",
    "print(test_X.shape)\n",
    "print(test_y.shape)"
   ]
  },
  {
   "cell_type": "code",
   "execution_count": 6,
   "metadata": {},
   "outputs": [
    {
     "name": "stdout",
     "output_type": "stream",
     "text": [
      "(1952, 1, 180) (1952, 1) (50, 1, 180) (50, 1)\n"
     ]
    }
   ],
   "source": [
    "x_scaler = preprocessing.StandardScaler()\n",
    "train_X = x_scaler.fit_transform(train_X)\n",
    "test_X = x_scaler.transform(test_X)\n",
    "\n",
    "y_scaler = preprocessing.StandardScaler()\n",
    "train_y= y_scaler.fit_transform(train_y.reshape(-1, 1))\n",
    "test_y = y_scaler.transform(test_y.reshape(-1, 1))\n",
    "\n",
    "\n",
    "\n",
    "train_X = train_X.reshape((train_X.shape[0], 1, train_X.shape[1]))\n",
    "test_X = test_X.reshape((test_X.shape[0], 1, test_X.shape[1]))\n",
    "print(train_X.shape, train_y.shape, test_X.shape, test_y.shape)"
   ]
  },
  {
   "cell_type": "code",
   "execution_count": 7,
   "metadata": {},
   "outputs": [
    {
     "name": "stdout",
     "output_type": "stream",
     "text": [
      "Train on 1952 samples, validate on 50 samples\n",
      "Epoch 1/10\n",
      " - 8s - loss: 0.8070 - val_loss: 0.2156\n",
      "Epoch 2/10\n",
      " - 3s - loss: 0.5989 - val_loss: 0.1816\n",
      "Epoch 3/10\n",
      " - 2s - loss: 0.5195 - val_loss: 0.1800\n",
      "Epoch 4/10\n",
      " - 3s - loss: 0.4759 - val_loss: 0.1996\n",
      "Epoch 5/10\n",
      " - 3s - loss: 0.4514 - val_loss: 0.2004\n",
      "Epoch 6/10\n",
      " - 2s - loss: 0.4331 - val_loss: 0.2132\n",
      "Epoch 7/10\n",
      " - 3s - loss: 0.4228 - val_loss: 0.1905\n",
      "Epoch 8/10\n",
      " - 3s - loss: 0.4013 - val_loss: 0.1672\n",
      "Epoch 9/10\n",
      " - 2s - loss: 0.3810 - val_loss: 0.1673\n",
      "Epoch 10/10\n",
      " - 2s - loss: 0.3720 - val_loss: 0.1582\n",
      "_________________________________________________________________\n",
      "Layer (type)                 Output Shape              Param #   \n",
      "=================================================================\n",
      "lstm (LSTM)                  (None, 256)               447488    \n",
      "_________________________________________________________________\n",
      "dropout (Dropout)            (None, 256)               0         \n",
      "_________________________________________________________________\n",
      "dense (Dense)                (None, 1)                 257       \n",
      "=================================================================\n",
      "Total params: 447,745\n",
      "Trainable params: 447,745\n",
      "Non-trainable params: 0\n",
      "_________________________________________________________________\n"
     ]
    },
    {
     "data": {
      "image/png": "[encoded data removed]",
      "text/plain": [
       "<Figure size 432x288 with 1 Axes>"
      ]
     },
     "metadata": {
      "needs_background": "light"
     },
     "output_type": "display_data"
    },
    {
     "name": "stdout",
     "output_type": "stream",
     "text": [
      "(50, 1)\n"
     ]
    }
   ],
   "source": [
    "# design network\n",
    "model = Sequential()\n",
    "model.add(LSTM(256 ,input_shape=(train_X.shape[1], train_X.shape[2])))\n",
    "model.add(Dropout(0.2))\n",
    "\n",
    "model.add(Dense(1, activation='tanh'))\n",
    "\n",
    "opt = tf.keras.optimizers.Adam(lr=0.001, decay=1e-6)\n",
    "model.compile(loss='mse', optimizer=opt)\n",
    "# fit network\n",
    "history = model.fit(train_X, train_y, epochs=10, batch_size=32, validation_data=(test_X, test_y), verbose=2, shuffle=False)\n",
    "model.summary()\n",
    "# plot history\n",
    "pyplot.plot(history.history['loss'], label='train')\n",
    "pyplot.plot(history.history['val_loss'], label='test')\n",
    "pyplot.legend()\n",
    "pyplot.show()\n",
    "\n",
    "yhat = model.predict(test_X)\n",
    "predictions = y_scaler.inverse_transform(yhat)\n",
    "print(yhat.shape)\n",
    "test_y_scaled = y_scaler.inverse_transform(test_y)"
   ]
  },
  {
   "cell_type": "code",
   "execution_count": 8,
   "metadata": {},
   "outputs": [
    {
     "data": {
      "image/png": "[encoded data removed]",
      "text/plain": [
       "<Figure size 432x288 with 1 Axes>"
      ]
     },
     "metadata": {},
     "output_type": "display_data"
    }
   ],
   "source": [
    "fig = plt.figure(facecolor='white') \n",
    "plt.plot(test_y_scaled, label='True Data',color='blue') \n",
    "plt.plot(predictions, label='Prediction',color='red')\n",
    "plt.plot(main_df['future'].iloc[:50], label='TR',color='green', linestyle='dashed',linewidth=2)\n",
    "plt.legend() \n",
    "plt.show()"
   ]
  },
  {
   "cell_type": "code",
   "execution_count": null,
   "metadata": {},
   "outputs": [],
   "source": []
  }
 ],
 "metadata": {
  "kernelspec": {
   "display_name": "Python 3",
   "language": "python",
   "name": "python3"
  },
  "language_info": {
   "codemirror_mode": {
    "name": "ipython",
    "version": 3
   },
   "file_extension": ".py",
   "mimetype": "text/x-python",
   "name": "python",
   "nbconvert_exporter": "python",
   "pygments_lexer": "ipython3",
   "version": "3.6.8"
  }
 },
 "nbformat": 4,
 "nbformat_minor": 2
}
